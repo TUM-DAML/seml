{
 "cells": [
  {
   "cell_type": "code",
   "execution_count": 1,
   "metadata": {},
   "outputs": [
    {
     "name": "stderr",
     "output_type": "stream",
     "text": [
      "/nfs/homedirs/zuegnerd/libraries/seml/seml/database.py:7: TqdmExperimentalWarning: Using `tqdm.autonotebook.tqdm` in notebook mode. Use `tqdm.tqdm` instead to force console mode (e.g. in jupyter console)\n",
      "  from tqdm.autonotebook import tqdm\n"
     ]
    }
   ],
   "source": [
    "import seml\n",
    "from matplotlib import pyplot as plt"
   ]
  },
  {
   "cell_type": "code",
   "execution_count": 2,
   "metadata": {
    "tags": []
   },
   "outputs": [
    {
     "data": {
      "application/vnd.jupyter.widget-view+json": {
       "model_id": "373af497df2e440bb7ba65bb735be9a2",
       "version_major": 2,
       "version_minor": 0
      },
      "text/plain": [
       "HBox(children=(FloatProgress(value=0.0, max=72.0), HTML(value='')))"
      ]
     },
     "metadata": {},
     "output_type": "display_data"
    },
    {
     "name": "stdout",
     "output_type": "stream",
     "text": [
      "\n"
     ]
    },
    {
     "data": {
      "application/vnd.jupyter.widget-view+json": {
       "model_id": "2c9a3e5d482f4243a743dcebddd2ede1",
       "version_major": 2,
       "version_minor": 0
      },
      "text/plain": [
       "HBox(children=(FloatProgress(value=0.0, max=72.0), HTML(value='')))"
      ]
     },
     "metadata": {},
     "output_type": "display_data"
    },
    {
     "name": "stdout",
     "output_type": "stream",
     "text": [
      "\n"
     ]
    },
    {
     "name": "stderr",
     "output_type": "stream",
     "text": [
      "/nfs/homedirs/zuegnerd/libraries/seml/seml/evaluation.py:80: FutureWarning: pandas.io.json.json_normalize is deprecated, use pandas.json_normalize instead\n",
      "  parsed = pd.io.json.json_normalize(parsed, sep='.')\n"
     ]
    }
   ],
   "source": [
    "results = seml.get_results(\"seml_example\", to_data_frame=True)"
   ]
  },
  {
   "cell_type": "code",
   "execution_count": 3,
   "metadata": {},
   "outputs": [
    {
     "data": {
      "text/html": [
       "<div>\n",
       "<style scoped>\n",
       "    .dataframe tbody tr th:only-of-type {\n",
       "        vertical-align: middle;\n",
       "    }\n",
       "\n",
       "    .dataframe tbody tr th {\n",
       "        vertical-align: top;\n",
       "    }\n",
       "\n",
       "    .dataframe thead th {\n",
       "        text-align: right;\n",
       "    }\n",
       "</style>\n",
       "<table border=\"1\" class=\"dataframe\">\n",
       "  <thead>\n",
       "    <tr style=\"text-align: right;\">\n",
       "      <th></th>\n",
       "      <th>_id</th>\n",
       "      <th>config.dataset</th>\n",
       "      <th>config.db_collection</th>\n",
       "      <th>config.hidden_sizes</th>\n",
       "      <th>config.learning_rate</th>\n",
       "      <th>config.max_epochs</th>\n",
       "      <th>config.overwrite</th>\n",
       "      <th>config.regularization_params.dropout</th>\n",
       "      <th>config.seed</th>\n",
       "      <th>result.test_acc</th>\n",
       "      <th>result.test_loss</th>\n",
       "    </tr>\n",
       "  </thead>\n",
       "  <tbody>\n",
       "    <tr>\n",
       "      <th>0</th>\n",
       "      <td>1</td>\n",
       "      <td>small_dataset_1</td>\n",
       "      <td>seml_example</td>\n",
       "      <td>[16]</td>\n",
       "      <td>0.00001</td>\n",
       "      <td>519</td>\n",
       "      <td>1</td>\n",
       "      <td>0.440696</td>\n",
       "      <td>49592375</td>\n",
       "      <td>0.738594</td>\n",
       "      <td>0.333637</td>\n",
       "    </tr>\n",
       "    <tr>\n",
       "      <th>1</th>\n",
       "      <td>2</td>\n",
       "      <td>small_dataset_1</td>\n",
       "      <td>seml_example</td>\n",
       "      <td>[16]</td>\n",
       "      <td>0.00001</td>\n",
       "      <td>626</td>\n",
       "      <td>2</td>\n",
       "      <td>0.446743</td>\n",
       "      <td>912760071</td>\n",
       "      <td>0.714019</td>\n",
       "      <td>6.445487</td>\n",
       "    </tr>\n",
       "    <tr>\n",
       "      <th>2</th>\n",
       "      <td>3</td>\n",
       "      <td>small_dataset_1</td>\n",
       "      <td>seml_example</td>\n",
       "      <td>[16]</td>\n",
       "      <td>0.00001</td>\n",
       "      <td>768</td>\n",
       "      <td>3</td>\n",
       "      <td>0.011091</td>\n",
       "      <td>946656409</td>\n",
       "      <td>0.268248</td>\n",
       "      <td>8.519550</td>\n",
       "    </tr>\n",
       "    <tr>\n",
       "      <th>3</th>\n",
       "      <td>4</td>\n",
       "      <td>small_dataset_1</td>\n",
       "      <td>seml_example</td>\n",
       "      <td>[32, 16]</td>\n",
       "      <td>0.00001</td>\n",
       "      <td>519</td>\n",
       "      <td>4</td>\n",
       "      <td>0.440696</td>\n",
       "      <td>488101063</td>\n",
       "      <td>0.334359</td>\n",
       "      <td>9.716397</td>\n",
       "    </tr>\n",
       "    <tr>\n",
       "      <th>4</th>\n",
       "      <td>5</td>\n",
       "      <td>small_dataset_1</td>\n",
       "      <td>seml_example</td>\n",
       "      <td>[32, 16]</td>\n",
       "      <td>0.00001</td>\n",
       "      <td>626</td>\n",
       "      <td>5</td>\n",
       "      <td>0.446743</td>\n",
       "      <td>682478206</td>\n",
       "      <td>0.248766</td>\n",
       "      <td>8.092757</td>\n",
       "    </tr>\n",
       "  </tbody>\n",
       "</table>\n",
       "</div>"
      ],
      "text/plain": [
       "   _id   config.dataset config.db_collection config.hidden_sizes  \\\n",
       "0    1  small_dataset_1         seml_example                [16]   \n",
       "1    2  small_dataset_1         seml_example                [16]   \n",
       "2    3  small_dataset_1         seml_example                [16]   \n",
       "3    4  small_dataset_1         seml_example            [32, 16]   \n",
       "4    5  small_dataset_1         seml_example            [32, 16]   \n",
       "\n",
       "   config.learning_rate  config.max_epochs  config.overwrite  \\\n",
       "0               0.00001                519                 1   \n",
       "1               0.00001                626                 2   \n",
       "2               0.00001                768                 3   \n",
       "3               0.00001                519                 4   \n",
       "4               0.00001                626                 5   \n",
       "\n",
       "   config.regularization_params.dropout  config.seed  result.test_acc  \\\n",
       "0                              0.440696     49592375         0.738594   \n",
       "1                              0.446743    912760071         0.714019   \n",
       "2                              0.011091    946656409         0.268248   \n",
       "3                              0.440696    488101063         0.334359   \n",
       "4                              0.446743    682478206         0.248766   \n",
       "\n",
       "   result.test_loss  \n",
       "0          0.333637  \n",
       "1          6.445487  \n",
       "2          8.519550  \n",
       "3          9.716397  \n",
       "4          8.092757  "
      ]
     },
     "execution_count": 3,
     "metadata": {},
     "output_type": "execute_result"
    }
   ],
   "source": [
    "results.head()"
   ]
  },
  {
   "cell_type": "code",
   "execution_count": 4,
   "metadata": {},
   "outputs": [],
   "source": [
    "# Pandas doesn't like lists as groupby keys.\n",
    "results[\"config.hidden_sizes\"] = results[\"config.hidden_sizes\"].astype(str)"
   ]
  },
  {
   "cell_type": "code",
   "execution_count": 5,
   "metadata": {},
   "outputs": [
    {
     "data": {
      "text/plain": [
       "config.dataset   config.hidden_sizes\n",
       "large_dataset_1  [64, 32]               6.082730\n",
       "                 [64]                   6.708074\n",
       "large_dataset_2  [64, 32]               4.429962\n",
       "                 [64]                   5.904191\n",
       "small_dataset_1  [16]                   5.063250\n",
       "                 [32, 16]               5.105564\n",
       "small_dataset_2  [16]                   6.231065\n",
       "                 [32, 16]               4.949711\n",
       "Name: result.test_loss, dtype: float64"
      ]
     },
     "execution_count": 5,
     "metadata": {},
     "output_type": "execute_result"
    }
   ],
   "source": [
    "results.groupby([\"config.dataset\", \"config.hidden_sizes\"])[\"result.test_loss\"].agg(\n",
    "    \"mean\"\n",
    ")"
   ]
  },
  {
   "cell_type": "code",
   "execution_count": 6,
   "metadata": {},
   "outputs": [
    {
     "data": {
      "image/png": "[encoded data removed]",
      "text/plain": [
       "<Figure size 432x288 with 1 Axes>"
      ]
     },
     "metadata": {
      "needs_background": "light"
     },
     "output_type": "display_data"
    }
   ],
   "source": [
    "plt.scatter(results[\"result.test_acc\"], results[\"result.test_loss\"])\n",
    "plt.show()"
   ]
  },
  {
   "cell_type": "code",
   "execution_count": null,
   "metadata": {},
   "outputs": [],
   "source": []
  }
 ],
 "metadata": {
  "kernelspec": {
   "display_name": "Python (torch)",
   "language": "python",
   "name": "torch"
  },
  "language_info": {
   "codemirror_mode": {
    "name": "ipython",
    "version": 3
   },
   "file_extension": ".py",
   "mimetype": "text/x-python",
   "name": "python",
   "nbconvert_exporter": "python",
   "pygments_lexer": "ipython3",
   "version": "3.8.1"
  }
 },
 "nbformat": 4,
 "nbformat_minor": 4
}
